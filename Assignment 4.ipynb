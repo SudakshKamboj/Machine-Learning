{
 "cells": [
  {
   "cell_type": "markdown",
   "metadata": {},
   "source": [
    "1.1 Write a Python Program(with class concepts) to find the area of the triangle using the below\n",
    "formula.\n",
    "area = (s*(s-a)*(s-b)*(s-c)) ** 0.5\n",
    "Function to take the length of the sides of triangle from user should be defined in the parent\n",
    "class and function to calculate the area should be defined in subclass."
   ]
  },
  {
   "cell_type": "markdown",
   "metadata": {},
   "source": [
    "Method - 1:"
   ]
  },
  {
   "cell_type": "code",
   "execution_count": 1,
   "metadata": {},
   "outputs": [
    {
     "name": "stdout",
     "output_type": "stream",
     "text": [
      "a = 3\n",
      "b = 4\n",
      "c = 5\n",
      "Area of triangle : 6.0\n"
     ]
    }
   ],
   "source": [
    "class Triangle:\n",
    "    def __init__(self, a, b, c):\n",
    "        self.a = float(a)\n",
    "        self.b = float(b)\n",
    "        self.c = float(c)\n",
    "\n",
    "a = int(input(\"a = \"))\n",
    "b = int(input(\"b = \"))\n",
    "c = int(input(\"c = \"))\n",
    "\n",
    "class Area(Triangle):\n",
    "    \n",
    "    def get_area(self):\n",
    "        s = (self.a + self.b + self.c) / 2\n",
    "        return (s * (s - self.a) * (s - self.b) * (s - self.c)) ** 0.5\n",
    "\n",
    "\n",
    "t = Area(a, b, c)\n",
    "print(\"Area of triangle :\",t.get_area())"
   ]
  },
  {
   "cell_type": "markdown",
   "metadata": {},
   "source": [
    "Method - 2 (Using Super):"
   ]
  },
  {
   "cell_type": "code",
   "execution_count": 2,
   "metadata": {},
   "outputs": [
    {
     "name": "stdout",
     "output_type": "stream",
     "text": [
      "a = 3\n",
      "b = 4\n",
      "c = 5\n",
      "Area of triangle : 6.0\n"
     ]
    }
   ],
   "source": [
    "class Triangle:\n",
    "    def __init__(self, a, b, c):\n",
    "        self.a = float(a)\n",
    "        self.b = float(b)\n",
    "        self.c = float(c)\n",
    "\n",
    "a = int(input(\"a = \"))\n",
    "b = int(input(\"b = \"))\n",
    "c = int(input(\"c = \"))\n",
    "\n",
    "class Area(Triangle):\n",
    "    def __init__(self,a,b,c):\n",
    "        super().__init__(a,b,c)\n",
    "    def get_area(self):\n",
    "        s = (a + b + c) / 2\n",
    "        return (s * (s - a) * (s - b) * (s - c)) ** 0.5\n",
    "\n",
    "\n",
    "t = Area(a, b, c)\n",
    "print(\"Area of triangle :\",t.get_area())"
   ]
  },
  {
   "cell_type": "markdown",
   "metadata": {},
   "source": [
    "1.2 Write a function filter_long_words() that takes a list of words and an integer n and returns\n",
    "the list of words that are longer than n."
   ]
  },
  {
   "cell_type": "code",
   "execution_count": 3,
   "metadata": {},
   "outputs": [
    {
     "name": "stdout",
     "output_type": "stream",
     "text": [
      "Please enter the list of words separated by ','\n",
      "abcd,abc,ab,abcdef,abcdefg,ab,acb\n",
      "Please enter the a number for filtering the list\n",
      "3\n",
      "['abcd', 'abcdef', 'abcdefg']\n"
     ]
    }
   ],
   "source": [
    "def filter_long_words():\n",
    "    list = []\n",
    "    Words = input(\"Please enter the list of words separated by ','\\n\")\n",
    "    List_of_Words = Words.split(\",\")\n",
    "\n",
    "    Filter_No = int(input(\"Please enter the a number for filtering the list\\n\"))\n",
    "\n",
    "    for i in range(len(List_of_Words)):\n",
    "        if len(List_of_Words[i]) > Filter_No:\n",
    "            list.append(List_of_Words[i])\n",
    "        \n",
    "    print(list)\n",
    "\n",
    "filter_long_words()"
   ]
  },
  {
   "cell_type": "markdown",
   "metadata": {},
   "source": [
    "2.1 Write a Python program using function concept that maps list of words into a list of integers\n",
    "representing the lengths of the corresponding words.\n",
    "Hint: If a list [ ab,cde,erty] is passed on to the python function output should come as [2,3,4]\n",
    "Here 2,3 and 4 are the lengths of the words in the list."
   ]
  },
  {
   "cell_type": "code",
   "execution_count": 4,
   "metadata": {},
   "outputs": [
    {
     "name": "stdout",
     "output_type": "stream",
     "text": [
      "Please enter the list of words separated by ','\n",
      "abc,wedfw,wedasdsad,wsfwfef,wregfewrg\n",
      "[3, 5, 9, 7, 9]\n"
     ]
    }
   ],
   "source": [
    "def Length_func():\n",
    "    Words = input(\"Please enter the list of words separated by ','\\n\")\n",
    "\n",
    "    def list_of_words(list):\n",
    "        return len(list)\n",
    "\n",
    "    x = map(list_of_words,Words.split(\",\"))\n",
    "    print(list(x))\n",
    "\n",
    "Length_func()"
   ]
  },
  {
   "cell_type": "markdown",
   "metadata": {},
   "source": [
    "2.2 Write a Python function which takes a character (i.e. a string of length 1) and returns True if\n",
    "it is a vowel, False otherwise."
   ]
  },
  {
   "cell_type": "code",
   "execution_count": 5,
   "metadata": {},
   "outputs": [
    {
     "name": "stdout",
     "output_type": "stream",
     "text": [
      "Please enter a word to check whether it is vowel or not.\n",
      "w\n",
      "False\n"
     ]
    }
   ],
   "source": [
    "def Check_Vowel():\n",
    "    word = input(\"Please enter a word to check whether it is vowel or not.\\n\")\n",
    "    Caps = word.upper()\n",
    "\n",
    "    if Caps.isalpha() and len(Caps) == 1:\n",
    "        if Caps in (\"A\",\"E\",\"I\",\"O\",\"U\"):\n",
    "            print(\"True\")\n",
    "        else:\n",
    "            print(\"False\")\n",
    "    else:\n",
    "        print(\"Enter the correct word.\")\n",
    "\n",
    "Check_Vowel()"
   ]
  }
 ],
 "metadata": {
  "kernelspec": {
   "display_name": "Python 3",
   "language": "python",
   "name": "python3"
  },
  "language_info": {
   "codemirror_mode": {
    "name": "ipython",
    "version": 3
   },
   "file_extension": ".py",
   "mimetype": "text/x-python",
   "name": "python",
   "nbconvert_exporter": "python",
   "pygments_lexer": "ipython3",
   "version": "3.7.6"
  }
 },
 "nbformat": 4,
 "nbformat_minor": 4
}
